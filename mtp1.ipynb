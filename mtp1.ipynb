{
  "cells": [
    {
      "cell_type": "markdown",
      "metadata": {
        "id": "view-in-github",
        "colab_type": "text"
      },
      "source": [
        "<a href=\"https://colab.research.google.com/github/Murari2124/Damage-prediction-ina-frame-strucutre-using-machine-learning/blob/main/mtp1.ipynb\" target=\"_parent\"><img src=\"https://colab.research.google.com/assets/colab-badge.svg\" alt=\"Open In Colab\"/></a>"
      ]
    },
    {
      "cell_type": "code",
      "execution_count": null,
      "metadata": {
        "colab": {
          "base_uri": "https://localhost:8080/",
          "height": 226
        },
        "id": "rfvgNJOi_Z9u",
        "outputId": "ed375297-8a8a-49aa-9c48-1307dfad653f"
      },
      "outputs": [
        {
          "data": {
            "text/html": [
              "\n",
              "  <div id=\"df-e21c70d2-198d-4b3a-88d9-9dbf0bede1bc\" class=\"colab-df-container\">\n",
              "    <div>\n",
              "<style scoped>\n",
              "    .dataframe tbody tr th:only-of-type {\n",
              "        vertical-align: middle;\n",
              "    }\n",
              "\n",
              "    .dataframe tbody tr th {\n",
              "        vertical-align: top;\n",
              "    }\n",
              "\n",
              "    .dataframe thead th {\n",
              "        text-align: right;\n",
              "    }\n",
              "</style>\n",
              "<table border=\"1\" class=\"dataframe\">\n",
              "  <thead>\n",
              "    <tr style=\"text-align: right;\">\n",
              "      <th></th>\n",
              "      <th>Member_1_name</th>\n",
              "      <th>Member_2_name</th>\n",
              "      <th>E1</th>\n",
              "      <th>E1.1</th>\n",
              "      <th>Frequency_1</th>\n",
              "      <th>Frequency_2</th>\n",
              "      <th>Frequency_3</th>\n",
              "      <th>Frequency_4</th>\n",
              "      <th>Frequency_5</th>\n",
              "      <th>Frequency_6</th>\n",
              "      <th>Frequency_7</th>\n",
              "      <th>Frequency_8</th>\n",
              "    </tr>\n",
              "  </thead>\n",
              "  <tbody>\n",
              "    <tr>\n",
              "      <th>0</th>\n",
              "      <td>STEEL_COL1</td>\n",
              "      <td>NaN</td>\n",
              "      <td>100000000000</td>\n",
              "      <td>200000000000</td>\n",
              "      <td>2.702044</td>\n",
              "      <td>3.555486</td>\n",
              "      <td>4.296314</td>\n",
              "      <td>6.326884</td>\n",
              "      <td>6.541992</td>\n",
              "      <td>7.622354</td>\n",
              "      <td>7.713820</td>\n",
              "      <td>7.719549</td>\n",
              "    </tr>\n",
              "    <tr>\n",
              "      <th>1</th>\n",
              "      <td>STEEL_COL1</td>\n",
              "      <td>NaN</td>\n",
              "      <td>101000000000</td>\n",
              "      <td>200000000000</td>\n",
              "      <td>2.702456</td>\n",
              "      <td>3.556237</td>\n",
              "      <td>4.297659</td>\n",
              "      <td>6.327693</td>\n",
              "      <td>6.542130</td>\n",
              "      <td>7.622354</td>\n",
              "      <td>7.713821</td>\n",
              "      <td>7.720343</td>\n",
              "    </tr>\n",
              "    <tr>\n",
              "      <th>2</th>\n",
              "      <td>STEEL_COL1</td>\n",
              "      <td>NaN</td>\n",
              "      <td>102000000000</td>\n",
              "      <td>200000000000</td>\n",
              "      <td>2.702866</td>\n",
              "      <td>3.556984</td>\n",
              "      <td>4.299000</td>\n",
              "      <td>6.328497</td>\n",
              "      <td>6.542268</td>\n",
              "      <td>7.622354</td>\n",
              "      <td>7.713822</td>\n",
              "      <td>7.721134</td>\n",
              "    </tr>\n",
              "    <tr>\n",
              "      <th>3</th>\n",
              "      <td>STEEL_COL1</td>\n",
              "      <td>NaN</td>\n",
              "      <td>103000000000</td>\n",
              "      <td>200000000000</td>\n",
              "      <td>2.703273</td>\n",
              "      <td>3.557727</td>\n",
              "      <td>4.300338</td>\n",
              "      <td>6.329296</td>\n",
              "      <td>6.542406</td>\n",
              "      <td>7.622354</td>\n",
              "      <td>7.713824</td>\n",
              "      <td>7.721922</td>\n",
              "    </tr>\n",
              "    <tr>\n",
              "      <th>4</th>\n",
              "      <td>STEEL_COL1</td>\n",
              "      <td>NaN</td>\n",
              "      <td>104000000000</td>\n",
              "      <td>200000000000</td>\n",
              "      <td>2.703677</td>\n",
              "      <td>3.558467</td>\n",
              "      <td>4.301671</td>\n",
              "      <td>6.330090</td>\n",
              "      <td>6.542544</td>\n",
              "      <td>7.622354</td>\n",
              "      <td>7.713824</td>\n",
              "      <td>7.722707</td>\n",
              "    </tr>\n",
              "  </tbody>\n",
              "</table>\n",
              "</div>\n",
              "    <div class=\"colab-df-buttons\">\n",
              "\n",
              "  <div class=\"colab-df-container\">\n",
              "    <button class=\"colab-df-convert\" onclick=\"convertToInteractive('df-e21c70d2-198d-4b3a-88d9-9dbf0bede1bc')\"\n",
              "            title=\"Convert this dataframe to an interactive table.\"\n",
              "            style=\"display:none;\">\n",
              "\n",
              "  <svg xmlns=\"http://www.w3.org/2000/svg\" height=\"24px\" viewBox=\"0 -960 960 960\">\n",
              "    <path d=\"M120-120v-720h720v720H120Zm60-500h600v-160H180v160Zm220 220h160v-160H400v160Zm0 220h160v-160H400v160ZM180-400h160v-160H180v160Zm440 0h160v-160H620v160ZM180-180h160v-160H180v160Zm440 0h160v-160H620v160Z\"/>\n",
              "  </svg>\n",
              "    </button>\n",
              "\n",
              "  <style>\n",
              "    .colab-df-container {\n",
              "      display:flex;\n",
              "      gap: 12px;\n",
              "    }\n",
              "\n",
              "    .colab-df-convert {\n",
              "      background-color: #E8F0FE;\n",
              "      border: none;\n",
              "      border-radius: 50%;\n",
              "      cursor: pointer;\n",
              "      display: none;\n",
              "      fill: #1967D2;\n",
              "      height: 32px;\n",
              "      padding: 0 0 0 0;\n",
              "      width: 32px;\n",
              "    }\n",
              "\n",
              "    .colab-df-convert:hover {\n",
              "      background-color: #E2EBFA;\n",
              "      box-shadow: 0px 1px 2px rgba(60, 64, 67, 0.3), 0px 1px 3px 1px rgba(60, 64, 67, 0.15);\n",
              "      fill: #174EA6;\n",
              "    }\n",
              "\n",
              "    .colab-df-buttons div {\n",
              "      margin-bottom: 4px;\n",
              "    }\n",
              "\n",
              "    [theme=dark] .colab-df-convert {\n",
              "      background-color: #3B4455;\n",
              "      fill: #D2E3FC;\n",
              "    }\n",
              "\n",
              "    [theme=dark] .colab-df-convert:hover {\n",
              "      background-color: #434B5C;\n",
              "      box-shadow: 0px 1px 3px 1px rgba(0, 0, 0, 0.15);\n",
              "      filter: drop-shadow(0px 1px 2px rgba(0, 0, 0, 0.3));\n",
              "      fill: #FFFFFF;\n",
              "    }\n",
              "  </style>\n",
              "\n",
              "    <script>\n",
              "      const buttonEl =\n",
              "        document.querySelector('#df-e21c70d2-198d-4b3a-88d9-9dbf0bede1bc button.colab-df-convert');\n",
              "      buttonEl.style.display =\n",
              "        google.colab.kernel.accessAllowed ? 'block' : 'none';\n",
              "\n",
              "      async function convertToInteractive(key) {\n",
              "        const element = document.querySelector('#df-e21c70d2-198d-4b3a-88d9-9dbf0bede1bc');\n",
              "        const dataTable =\n",
              "          await google.colab.kernel.invokeFunction('convertToInteractive',\n",
              "                                                    [key], {});\n",
              "        if (!dataTable) return;\n",
              "\n",
              "        const docLinkHtml = 'Like what you see? Visit the ' +\n",
              "          '<a target=\"_blank\" href=https://colab.research.google.com/notebooks/data_table.ipynb>data table notebook</a>'\n",
              "          + ' to learn more about interactive tables.';\n",
              "        element.innerHTML = '';\n",
              "        dataTable['output_type'] = 'display_data';\n",
              "        await google.colab.output.renderOutput(dataTable, element);\n",
              "        const docLink = document.createElement('div');\n",
              "        docLink.innerHTML = docLinkHtml;\n",
              "        element.appendChild(docLink);\n",
              "      }\n",
              "    </script>\n",
              "  </div>\n",
              "\n",
              "\n",
              "<div id=\"df-c7ee94c9-6005-41eb-a1a7-8d98b7f357d4\">\n",
              "  <button class=\"colab-df-quickchart\" onclick=\"quickchart('df-c7ee94c9-6005-41eb-a1a7-8d98b7f357d4')\"\n",
              "            title=\"Suggest charts\"\n",
              "            style=\"display:none;\">\n",
              "\n",
              "<svg xmlns=\"http://www.w3.org/2000/svg\" height=\"24px\"viewBox=\"0 0 24 24\"\n",
              "     width=\"24px\">\n",
              "    <g>\n",
              "        <path d=\"M19 3H5c-1.1 0-2 .9-2 2v14c0 1.1.9 2 2 2h14c1.1 0 2-.9 2-2V5c0-1.1-.9-2-2-2zM9 17H7v-7h2v7zm4 0h-2V7h2v10zm4 0h-2v-4h2v4z\"/>\n",
              "    </g>\n",
              "</svg>\n",
              "  </button>\n",
              "\n",
              "<style>\n",
              "  .colab-df-quickchart {\n",
              "      --bg-color: #E8F0FE;\n",
              "      --fill-color: #1967D2;\n",
              "      --hover-bg-color: #E2EBFA;\n",
              "      --hover-fill-color: #174EA6;\n",
              "      --disabled-fill-color: #AAA;\n",
              "      --disabled-bg-color: #DDD;\n",
              "  }\n",
              "\n",
              "  [theme=dark] .colab-df-quickchart {\n",
              "      --bg-color: #3B4455;\n",
              "      --fill-color: #D2E3FC;\n",
              "      --hover-bg-color: #434B5C;\n",
              "      --hover-fill-color: #FFFFFF;\n",
              "      --disabled-bg-color: #3B4455;\n",
              "      --disabled-fill-color: #666;\n",
              "  }\n",
              "\n",
              "  .colab-df-quickchart {\n",
              "    background-color: var(--bg-color);\n",
              "    border: none;\n",
              "    border-radius: 50%;\n",
              "    cursor: pointer;\n",
              "    display: none;\n",
              "    fill: var(--fill-color);\n",
              "    height: 32px;\n",
              "    padding: 0;\n",
              "    width: 32px;\n",
              "  }\n",
              "\n",
              "  .colab-df-quickchart:hover {\n",
              "    background-color: var(--hover-bg-color);\n",
              "    box-shadow: 0 1px 2px rgba(60, 64, 67, 0.3), 0 1px 3px 1px rgba(60, 64, 67, 0.15);\n",
              "    fill: var(--button-hover-fill-color);\n",
              "  }\n",
              "\n",
              "  .colab-df-quickchart-complete:disabled,\n",
              "  .colab-df-quickchart-complete:disabled:hover {\n",
              "    background-color: var(--disabled-bg-color);\n",
              "    fill: var(--disabled-fill-color);\n",
              "    box-shadow: none;\n",
              "  }\n",
              "\n",
              "  .colab-df-spinner {\n",
              "    border: 2px solid var(--fill-color);\n",
              "    border-color: transparent;\n",
              "    border-bottom-color: var(--fill-color);\n",
              "    animation:\n",
              "      spin 1s steps(1) infinite;\n",
              "  }\n",
              "\n",
              "  @keyframes spin {\n",
              "    0% {\n",
              "      border-color: transparent;\n",
              "      border-bottom-color: var(--fill-color);\n",
              "      border-left-color: var(--fill-color);\n",
              "    }\n",
              "    20% {\n",
              "      border-color: transparent;\n",
              "      border-left-color: var(--fill-color);\n",
              "      border-top-color: var(--fill-color);\n",
              "    }\n",
              "    30% {\n",
              "      border-color: transparent;\n",
              "      border-left-color: var(--fill-color);\n",
              "      border-top-color: var(--fill-color);\n",
              "      border-right-color: var(--fill-color);\n",
              "    }\n",
              "    40% {\n",
              "      border-color: transparent;\n",
              "      border-right-color: var(--fill-color);\n",
              "      border-top-color: var(--fill-color);\n",
              "    }\n",
              "    60% {\n",
              "      border-color: transparent;\n",
              "      border-right-color: var(--fill-color);\n",
              "    }\n",
              "    80% {\n",
              "      border-color: transparent;\n",
              "      border-right-color: var(--fill-color);\n",
              "      border-bottom-color: var(--fill-color);\n",
              "    }\n",
              "    90% {\n",
              "      border-color: transparent;\n",
              "      border-bottom-color: var(--fill-color);\n",
              "    }\n",
              "  }\n",
              "</style>\n",
              "\n",
              "  <script>\n",
              "    async function quickchart(key) {\n",
              "      const quickchartButtonEl =\n",
              "        document.querySelector('#' + key + ' button');\n",
              "      quickchartButtonEl.disabled = true;  // To prevent multiple clicks.\n",
              "      quickchartButtonEl.classList.add('colab-df-spinner');\n",
              "      try {\n",
              "        const charts = await google.colab.kernel.invokeFunction(\n",
              "            'suggestCharts', [key], {});\n",
              "      } catch (error) {\n",
              "        console.error('Error during call to suggestCharts:', error);\n",
              "      }\n",
              "      quickchartButtonEl.classList.remove('colab-df-spinner');\n",
              "      quickchartButtonEl.classList.add('colab-df-quickchart-complete');\n",
              "    }\n",
              "    (() => {\n",
              "      let quickchartButtonEl =\n",
              "        document.querySelector('#df-c7ee94c9-6005-41eb-a1a7-8d98b7f357d4 button');\n",
              "      quickchartButtonEl.style.display =\n",
              "        google.colab.kernel.accessAllowed ? 'block' : 'none';\n",
              "    })();\n",
              "  </script>\n",
              "</div>\n",
              "    </div>\n",
              "  </div>\n"
            ],
            "text/plain": [
              "  Member_1_name Member_2_name            E1          E1.1  Frequency_1  \\\n",
              "0    STEEL_COL1           NaN  100000000000  200000000000     2.702044   \n",
              "1    STEEL_COL1           NaN  101000000000  200000000000     2.702456   \n",
              "2    STEEL_COL1           NaN  102000000000  200000000000     2.702866   \n",
              "3    STEEL_COL1           NaN  103000000000  200000000000     2.703273   \n",
              "4    STEEL_COL1           NaN  104000000000  200000000000     2.703677   \n",
              "\n",
              "   Frequency_2  Frequency_3  Frequency_4  Frequency_5  Frequency_6  \\\n",
              "0     3.555486     4.296314     6.326884     6.541992     7.622354   \n",
              "1     3.556237     4.297659     6.327693     6.542130     7.622354   \n",
              "2     3.556984     4.299000     6.328497     6.542268     7.622354   \n",
              "3     3.557727     4.300338     6.329296     6.542406     7.622354   \n",
              "4     3.558467     4.301671     6.330090     6.542544     7.622354   \n",
              "\n",
              "   Frequency_7  Frequency_8  \n",
              "0     7.713820     7.719549  \n",
              "1     7.713821     7.720343  \n",
              "2     7.713822     7.721134  \n",
              "3     7.713824     7.721922  \n",
              "4     7.713824     7.722707  "
            ]
          },
          "execution_count": 1,
          "metadata": {},
          "output_type": "execute_result"
        }
      ],
      "source": [
        "import pandas as pd\n",
        "\n",
        "# Load the dataset\n",
        "file_path = '/content/FINAL DATASET.xlsx'\n",
        "data = pd.read_excel(file_path)\n",
        "\n",
        "# Display the first few rows of the dataset for an overview\n",
        "data.head()"
      ]
    },
    {
      "cell_type": "code",
      "execution_count": null,
      "metadata": {
        "colab": {
          "base_uri": "https://localhost:8080/"
        },
        "id": "6gNMBUlkAkd1",
        "outputId": "74e27e9c-b609-4290-b2d3-2ba48ef4ad60"
      },
      "outputs": [
        {
          "data": {
            "text/plain": [
              "(Member_1_name      0\n",
              " Member_2_name    800\n",
              " E1                 0\n",
              " E2                 0\n",
              " Frequency_1        0\n",
              " Frequency_2        0\n",
              " Frequency_3        0\n",
              " Frequency_4        0\n",
              " Frequency_5        0\n",
              " Frequency_6        0\n",
              " Frequency_7        0\n",
              " Frequency_8        0\n",
              " dtype: int64,\n",
              " Member_1_name     object\n",
              " Member_2_name     object\n",
              " E1                 int64\n",
              " E2                 int64\n",
              " Frequency_1      float64\n",
              " Frequency_2      float64\n",
              " Frequency_3      float64\n",
              " Frequency_4      float64\n",
              " Frequency_5      float64\n",
              " Frequency_6      float64\n",
              " Frequency_7      float64\n",
              " Frequency_8      float64\n",
              " dtype: object)"
            ]
          },
          "execution_count": 2,
          "metadata": {},
          "output_type": "execute_result"
        }
      ],
      "source": [
        "# Renaming 'E1.1' to 'E2' for clarity\n",
        "data = data.rename(columns={'E1.1': 'E2'})\n",
        "\n",
        "# Check for missing values and data types\n",
        "missing_values = data.isnull().sum()\n",
        "data_types = data.dtypes\n",
        "\n",
        "missing_values, data_types"
      ]
    },
    {
      "cell_type": "code",
      "execution_count": null,
      "metadata": {
        "id": "e8tE9ILtAuRo"
      },
      "outputs": [],
      "source": [
        "from sklearn.model_selection import train_test_split\n",
        "from sklearn.tree import DecisionTreeRegressor\n",
        "from sklearn.metrics import mean_squared_error, r2_score"
      ]
    },
    {
      "cell_type": "code",
      "execution_count": null,
      "metadata": {
        "id": "EXH79jifAyw1"
      },
      "outputs": [],
      "source": [
        "# Features and target for the first model (predicting E1)\n",
        "features = data.iloc[:, 4:]  # Frequency columns\n",
        "target_E1 = data['E1']"
      ]
    },
    {
      "cell_type": "code",
      "execution_count": null,
      "metadata": {
        "id": "J9le_NzoA14G"
      },
      "outputs": [],
      "source": [
        "# Splitting the dataset into training and testing sets\n",
        "X_train_E1, X_test_E1, y_train_E1, y_test_E1 = train_test_split(features, target_E1, test_size=0.2, random_state=42)\n"
      ]
    },
    {
      "cell_type": "code",
      "execution_count": null,
      "metadata": {
        "colab": {
          "base_uri": "https://localhost:8080/"
        },
        "id": "dTDmdVy1A5Me",
        "outputId": "3c428332-b8bd-48cc-e2a1-0809caa86d9a"
      },
      "outputs": [
        {
          "data": {
            "text/plain": [
              "(6.1219435736677106e+19, 0.9268027247300217)"
            ]
          },
          "execution_count": 6,
          "metadata": {},
          "output_type": "execute_result"
        }
      ],
      "source": [
        "\n",
        "# Training a Decision Tree Regressor for E1\n",
        "regressor_E1 = DecisionTreeRegressor(random_state=42)\n",
        "regressor_E1.fit(X_train_E1, y_train_E1)\n",
        "\n",
        "# Predicting and evaluating the model\n",
        "y_pred_E1 = regressor_E1.predict(X_test_E1)\n",
        "mse_E1 = mean_squared_error(y_test_E1, y_pred_E1)\n",
        "r2_E1 = r2_score(y_test_E1, y_pred_E1)\n",
        "\n",
        "mse_E1, r2_E1"
      ]
    },
    {
      "cell_type": "code",
      "execution_count": null,
      "metadata": {
        "colab": {
          "base_uri": "https://localhost:8080/"
        },
        "id": "1dB7EjOSA7s3",
        "outputId": "999becca-04bc-4e8c-8a87-89afdedcb694"
      },
      "outputs": [
        {
          "data": {
            "text/plain": [
              "(6.744514106583073e+19, 0.936036573519667)"
            ]
          },
          "execution_count": 7,
          "metadata": {},
          "output_type": "execute_result"
        }
      ],
      "source": [
        "# Target for the second model (predicting E2)\n",
        "target_E2 = data['E2']\n",
        "\n",
        "# Splitting the dataset for E2 predictions\n",
        "X_train_E2, X_test_E2, y_train_E2, y_test_E2 = train_test_split(features, target_E2, test_size=0.2, random_state=42)\n",
        "\n",
        "# Training a Decision Tree Regressor for E2\n",
        "regressor_E2 = DecisionTreeRegressor(random_state=42)\n",
        "regressor_E2.fit(X_train_E2, y_train_E2)\n",
        "\n",
        "# Predicting and evaluating the model for E2\n",
        "y_pred_E2 = regressor_E2.predict(X_test_E2)\n",
        "mse_E2 = mean_squared_error(y_test_E2, y_pred_E2)\n",
        "r2_E2 = r2_score(y_test_E2, y_pred_E2)\n",
        "\n",
        "mse_E2, r2_E2"
      ]
    },
    {
      "cell_type": "code",
      "execution_count": null,
      "metadata": {
        "colab": {
          "base_uri": "https://localhost:8080/"
        },
        "id": "ilKxJpmiBBEg",
        "outputId": "04225227-e4e7-4d52-a246-21537b6a38c7"
      },
      "outputs": [
        {
          "data": {
            "text/plain": [
              "((1275, 8), (319, 8), (1275,), (319,))"
            ]
          },
          "execution_count": 8,
          "metadata": {},
          "output_type": "execute_result"
        }
      ],
      "source": [
        "from sklearn.preprocessing import LabelEncoder\n",
        "\n",
        "# Encoding the 'Member_1_name' column\n",
        "label_encoder = LabelEncoder()\n",
        "encoded_member_1 = label_encoder.fit_transform(data['Member_1_name'])\n",
        "\n",
        "# Features (modal frequencies) and target (encoded 'Member_1_name')\n",
        "target_member_1 = encoded_member_1\n",
        "\n",
        "# Splitting the dataset into training and testing sets for the classification model\n",
        "X_train_member_1, X_test_member_1, y_train_member_1, y_test_member_1 = train_test_split(\n",
        "    features, target_member_1, test_size=0.2, random_state=42)\n",
        "\n",
        "# Checking the shape of the training and testing sets\n",
        "X_train_member_1.shape, X_test_member_1.shape, y_train_member_1.shape, y_test_member_1.shape"
      ]
    },
    {
      "cell_type": "code",
      "execution_count": null,
      "metadata": {
        "colab": {
          "base_uri": "https://localhost:8080/"
        },
        "id": "YDSZb2e9BFOW",
        "outputId": "e529637e-1849-45c0-d809-30c594092e71"
      },
      "outputs": [
        {
          "data": {
            "text/plain": [
              "(0.677115987460815,\n",
              " '              precision    recall  f1-score   support\\n\\n           0       1.00      0.98      0.99        47\\n           1       0.95      1.00      0.97        19\\n           2       1.00      1.00      1.00        36\\n           3       0.56      0.62      0.59        37\\n           4       1.00      0.89      0.94        18\\n           5       0.00      0.00      0.00        16\\n           6       0.53      0.68      0.60        34\\n           7       0.00      0.00      0.00        18\\n           8       0.21      0.29      0.24        21\\n           9       1.00      0.70      0.82        10\\n          10       0.53      0.42      0.47        40\\n          11       1.00      1.00      1.00        23\\n\\n    accuracy                           0.68       319\\n   macro avg       0.65      0.63      0.64       319\\nweighted avg       0.68      0.68      0.68       319\\n')"
            ]
          },
          "execution_count": 9,
          "metadata": {},
          "output_type": "execute_result"
        }
      ],
      "source": [
        "from sklearn.tree import DecisionTreeClassifier\n",
        "from sklearn.metrics import accuracy_score, classification_report\n",
        "\n",
        "# Training a Decision Tree Classifier\n",
        "classifier_member_1 = DecisionTreeClassifier(random_state=42)\n",
        "classifier_member_1.fit(X_train_member_1, y_train_member_1)\n",
        "\n",
        "# Predicting and evaluating the classifier\n",
        "y_pred_member_1 = classifier_member_1.predict(X_test_member_1)\n",
        "accuracy_member_1 = accuracy_score(y_test_member_1, y_pred_member_1)\n",
        "classification_rep_member_1 = classification_report(y_test_member_1, y_pred_member_1)\n",
        "\n",
        "accuracy_member_1, classification_rep_member_1"
      ]
    },
    {
      "cell_type": "code",
      "execution_count": null,
      "metadata": {
        "colab": {
          "base_uri": "https://localhost:8080/"
        },
        "id": "4-tEFI0wBI_p",
        "outputId": "ab22a2a7-438a-4d4b-e30b-9a586970466d"
      },
      "outputs": [
        {
          "data": {
            "text/plain": [
              "(5.8882508777429475e+19,\n",
              " 0.9295968812566785,\n",
              " 6.829732247474747e+19,\n",
              " 0.9352283841966741)"
            ]
          },
          "execution_count": 10,
          "metadata": {},
          "output_type": "execute_result"
        }
      ],
      "source": [
        "from sklearn.ensemble import RandomForestRegressor, RandomForestClassifier\n",
        "\n",
        "# Random Forest Regressor for E1\n",
        "rf_regressor_E1 = RandomForestRegressor(random_state=42)\n",
        "rf_regressor_E1.fit(X_train_E1, y_train_E1)\n",
        "y_pred_rf_E1 = rf_regressor_E1.predict(X_test_E1)\n",
        "\n",
        "# Evaluating the regressor for E1\n",
        "mse_rf_E1 = mean_squared_error(y_test_E1, y_pred_rf_E1)\n",
        "r2_rf_E1 = r2_score(y_test_E1, y_pred_rf_E1)\n",
        "\n",
        "# Random Forest Regressor for E2\n",
        "rf_regressor_E2 = RandomForestRegressor(random_state=42)\n",
        "rf_regressor_E2.fit(X_train_E2, y_train_E2)\n",
        "y_pred_rf_E2 = rf_regressor_E2.predict(X_test_E2)\n",
        "\n",
        "# Evaluating the regressor for E2\n",
        "mse_rf_E2 = mean_squared_error(y_test_E2, y_pred_rf_E2)\n",
        "r2_rf_E2 = r2_score(y_test_E2, y_pred_rf_E2)\n",
        "\n",
        "mse_rf_E1, r2_rf_E1, mse_rf_E2, r2_rf_E2"
      ]
    },
    {
      "cell_type": "code",
      "execution_count": null,
      "metadata": {
        "colab": {
          "base_uri": "https://localhost:8080/"
        },
        "id": "t7WfMB_pBRfC",
        "outputId": "d640cc20-c9dc-4e5a-af53-04f837ebfefc"
      },
      "outputs": [
        {
          "data": {
            "text/plain": [
              "(0.6990595611285266,\n",
              " '              precision    recall  f1-score   support\\n\\n           0       1.00      1.00      1.00        47\\n           1       1.00      1.00      1.00        19\\n           2       1.00      1.00      1.00        36\\n           3       0.58      0.59      0.59        37\\n           4       1.00      1.00      1.00        18\\n           5       0.06      0.06      0.06        16\\n           6       0.56      0.68      0.61        34\\n           7       0.15      0.11      0.13        18\\n           8       0.20      0.24      0.22        21\\n           9       1.00      0.80      0.89        10\\n          10       0.54      0.47      0.51        40\\n          11       1.00      1.00      1.00        23\\n\\n    accuracy                           0.70       319\\n   macro avg       0.67      0.66      0.67       319\\nweighted avg       0.70      0.70      0.70       319\\n')"
            ]
          },
          "execution_count": 11,
          "metadata": {},
          "output_type": "execute_result"
        }
      ],
      "source": [
        "# Training a Random Forest Classifier for Member_1_name\n",
        "rf_classifier_member_1 = RandomForestClassifier(random_state=42)\n",
        "rf_classifier_member_1.fit(X_train_member_1, y_train_member_1)\n",
        "\n",
        "# Predicting and evaluating the classifier\n",
        "y_pred_rf_member_1 = rf_classifier_member_1.predict(X_test_member_1)\n",
        "accuracy_rf_member_1 = accuracy_score(y_test_member_1, y_pred_rf_member_1)\n",
        "classification_rep_rf_member_1 = classification_report(y_test_member_1, y_pred_rf_member_1)\n",
        "\n",
        "accuracy_rf_member_1, classification_rep_rf_member_1"
      ]
    },
    {
      "cell_type": "code",
      "execution_count": null,
      "metadata": {
        "colab": {
          "base_uri": "https://localhost:8080/"
        },
        "id": "HMswDOs9BYnN",
        "outputId": "207c98e8-3d42-4559-cd26-d97ff423df5b"
      },
      "outputs": [
        {
          "data": {
            "text/plain": [
              "(4.951218675016275e+19,\n",
              " 0.9408005461148187,\n",
              " 6.770887786166479e+19,\n",
              " 0.9357864515852488)"
            ]
          },
          "execution_count": 12,
          "metadata": {},
          "output_type": "execute_result"
        }
      ],
      "source": [
        "from sklearn.ensemble import GradientBoostingRegressor, GradientBoostingClassifier\n",
        "\n",
        "# GBM Regressor for E1\n",
        "gbm_regressor_E1 = GradientBoostingRegressor(random_state=42)\n",
        "gbm_regressor_E1.fit(X_train_E1, y_train_E1)\n",
        "y_pred_gbm_E1 = gbm_regressor_E1.predict(X_test_E1)\n",
        "\n",
        "# Evaluating the regressor for E1\n",
        "mse_gbm_E1 = mean_squared_error(y_test_E1, y_pred_gbm_E1)\n",
        "r2_gbm_E1 = r2_score(y_test_E1, y_pred_gbm_E1)\n",
        "\n",
        "# GBM Regressor for E2\n",
        "gbm_regressor_E2 = GradientBoostingRegressor(random_state=42)\n",
        "gbm_regressor_E2.fit(X_train_E2, y_train_E2)\n",
        "y_pred_gbm_E2 = gbm_regressor_E2.predict(X_test_E2)\n",
        "\n",
        "# Evaluating the regressor for E2\n",
        "mse_gbm_E2 = mean_squared_error(y_test_E2, y_pred_gbm_E2)\n",
        "r2_gbm_E2 = r2_score(y_test_E2, y_pred_gbm_E2)\n",
        "\n",
        "mse_gbm_E1, r2_gbm_E1, mse_gbm_E2, r2_gbm_E2"
      ]
    },
    {
      "cell_type": "code",
      "execution_count": null,
      "metadata": {
        "colab": {
          "base_uri": "https://localhost:8080/"
        },
        "id": "fNQIZpnIBduH",
        "outputId": "c81f7fe5-397a-4d4c-ce7f-cf8ea4660a30"
      },
      "outputs": [
        {
          "data": {
            "text/plain": [
              "(0.6896551724137931,\n",
              " '              precision    recall  f1-score   support\\n\\n           0       1.00      1.00      1.00        47\\n           1       1.00      1.00      1.00        19\\n           2       1.00      1.00      1.00        36\\n           3       0.59      0.62      0.61        37\\n           4       0.95      1.00      0.97        18\\n           5       0.00      0.00      0.00        16\\n           6       0.56      0.68      0.61        34\\n           7       0.14      0.11      0.12        18\\n           8       0.05      0.05      0.05        21\\n           9       1.00      0.70      0.82        10\\n          10       0.51      0.53      0.52        40\\n          11       1.00      1.00      1.00        23\\n\\n    accuracy                           0.69       319\\n   macro avg       0.65      0.64      0.64       319\\nweighted avg       0.68      0.69      0.68       319\\n')"
            ]
          },
          "execution_count": 13,
          "metadata": {},
          "output_type": "execute_result"
        }
      ],
      "source": [
        "\n",
        "# Training a GBM Classifier for Member_1_name\n",
        "gbm_classifier_member_1 = GradientBoostingClassifier(random_state=42)\n",
        "gbm_classifier_member_1.fit(X_train_member_1, y_train_member_1)\n",
        "\n",
        "# Predicting and evaluating the classifier\n",
        "y_pred_gbm_member_1 = gbm_classifier_member_1.predict(X_test_member_1)\n",
        "accuracy_gbm_member_1 = accuracy_score(y_test_member_1, y_pred_gbm_member_1)\n",
        "classification_rep_gbm_member_1 = classification_report(y_test_member_1, y_pred_gbm_member_1)\n",
        "\n",
        "accuracy_gbm_member_1, classification_rep_gbm_member_1"
      ]
    },
    {
      "cell_type": "code",
      "execution_count": null,
      "metadata": {
        "colab": {
          "base_uri": "https://localhost:8080/"
        },
        "id": "1jItb5k1Biy2",
        "outputId": "1d13b601-b4ce-4b97-a6ab-c950355d1fab"
      },
      "outputs": [
        {
          "data": {
            "text/plain": [
              "(6.108463949843259e+19, 0.9269638944180041)"
            ]
          },
          "execution_count": 26,
          "metadata": {},
          "output_type": "execute_result"
        }
      ],
      "source": [
        "from sklearn.model_selection import train_test_split\n",
        "from sklearn.tree import DecisionTreeRegressor\n",
        "from sklearn.metrics import mean_squared_error, r2_score\n",
        "\n",
        "# Preparing data for Model 1\n",
        "X = data.drop(columns=['E1', 'Member_1_name', 'Member_2_name'])\n",
        "y = data['E1']\n",
        "\n",
        "# Splitting the data into training and testing sets\n",
        "X_train, X_test, y_train, y_test = train_test_split(X, y, test_size=0.2, random_state=42)\n",
        "\n",
        "# Building the decision tree model for predicting E1\n",
        "model_1 = DecisionTreeRegressor(random_state=42)\n",
        "model_1.fit(X_train, y_train)\n",
        "\n",
        "# Predicting and evaluating the model\n",
        "y_pred_1 = model_1.predict(X_test)\n",
        "mse_1 = mean_squared_error(y_test, y_pred_1)\n",
        "r2_1 = r2_score(y_test, y_pred_1)\n",
        "\n",
        "mse_1, r2_1"
      ]
    },
    {
      "cell_type": "code",
      "execution_count": null,
      "metadata": {
        "colab": {
          "base_uri": "https://localhost:8080/",
          "height": 472
        },
        "id": "LP5BRTnsRqm5",
        "outputId": "8cc66011-b709-4cf3-ffc8-98b6911df218"
      },
      "outputs": [
        {
          "data": {
            "image/png": "[encoded data removed]",
            "text/plain": [
              "<Figure size 640x480 with 1 Axes>"
            ]
          },
          "metadata": {},
          "output_type": "display_data"
        }
      ],
      "source": [
        "# Residual Plot\n",
        "residuals = y_test - y_pred_1\n",
        "plt.scatter(y_pred_1, residuals)\n",
        "plt.title('Residual Plot')\n",
        "plt.xlabel('Predicted')\n",
        "plt.ylabel('Residuals')\n",
        "plt.axhline(y=0, color='r', linestyle='--')\n",
        "plt.show()"
      ]
    },
    {
      "cell_type": "code",
      "execution_count": null,
      "metadata": {
        "colab": {
          "base_uri": "https://localhost:8080/"
        },
        "id": "-cL0s2UYDM4B",
        "outputId": "5ecb2760-1c06-48d9-eab8-2a2440760d26"
      },
      "outputs": [
        {
          "name": "stdout",
          "output_type": "stream",
          "text": [
            "Accuracy of the model: 0.6896551724137931\n"
          ]
        }
      ],
      "source": [
        "from sklearn.tree import DecisionTreeClassifier\n",
        "from sklearn.metrics import accuracy_score\n",
        "\n",
        "# Using Model 1 to predict E1 for the entire dataset\n",
        "predicted_E1 = model_1.predict(X)\n",
        "\n",
        "# Preparing data for Model 2\n",
        "X_model_2 = X.copy()\n",
        "X_model_2['Predicted_E1'] = predicted_E1\n",
        "y_model_2 = data['Member_1_name']\n",
        "\n",
        "# Splitting the data into training and testing sets for Model 2\n",
        "X_train_2, X_test_2, y_train_2, y_test_2 = train_test_split(X_model_2, y_model_2, test_size=0.2, random_state=42)\n",
        "\n",
        "# Building the decision tree model for predicting Member_1_name\n",
        "model_2 = DecisionTreeClassifier(random_state=42)\n",
        "model_2.fit(X_train_2, y_train_2)\n",
        "\n",
        "# Predicting and evaluating the model\n",
        "y_pred_2 = model_2.predict(X_test_2)\n",
        "accuracy_2 = accuracy_score(y_test_2, y_pred_2)\n",
        "\n",
        "print(\"Accuracy of the model:\", accuracy_2)"
      ]
    },
    {
      "cell_type": "code",
      "execution_count": null,
      "metadata": {
        "colab": {
          "base_uri": "https://localhost:8080/",
          "height": 443
        },
        "id": "ZUre-O8ADyIM",
        "outputId": "fbc4e810-8685-4085-85fd-af8e60cc3cfc"
      },
      "outputs": [
        {
          "data": {
            "text/html": [
              "\n",
              "  <div id=\"df-f70ab053-a308-4900-85cd-97b1912af18b\" class=\"colab-df-container\">\n",
              "    <div>\n",
              "<style scoped>\n",
              "    .dataframe tbody tr th:only-of-type {\n",
              "        vertical-align: middle;\n",
              "    }\n",
              "\n",
              "    .dataframe tbody tr th {\n",
              "        vertical-align: top;\n",
              "    }\n",
              "\n",
              "    .dataframe thead th {\n",
              "        text-align: right;\n",
              "    }\n",
              "</style>\n",
              "<table border=\"1\" class=\"dataframe\">\n",
              "  <thead>\n",
              "    <tr style=\"text-align: right;\">\n",
              "      <th></th>\n",
              "      <th>Member_1_name</th>\n",
              "      <th>Member_2_name</th>\n",
              "      <th>E1</th>\n",
              "      <th>E2</th>\n",
              "      <th>Frequency_1</th>\n",
              "      <th>Frequency_2</th>\n",
              "      <th>Frequency_3</th>\n",
              "      <th>Frequency_4</th>\n",
              "      <th>Frequency_5</th>\n",
              "      <th>Frequency_6</th>\n",
              "      <th>Frequency_7</th>\n",
              "      <th>Frequency_8</th>\n",
              "    </tr>\n",
              "  </thead>\n",
              "  <tbody>\n",
              "    <tr>\n",
              "      <th>0</th>\n",
              "      <td>STEEL_COL1</td>\n",
              "      <td>NaN</td>\n",
              "      <td>100000000000</td>\n",
              "      <td>200000000000</td>\n",
              "      <td>2.702044</td>\n",
              "      <td>3.555486</td>\n",
              "      <td>4.296314</td>\n",
              "      <td>6.326884</td>\n",
              "      <td>6.541992</td>\n",
              "      <td>7.622354</td>\n",
              "      <td>7.713820</td>\n",
              "      <td>7.719549</td>\n",
              "    </tr>\n",
              "    <tr>\n",
              "      <th>1</th>\n",
              "      <td>STEEL_COL1</td>\n",
              "      <td>NaN</td>\n",
              "      <td>101000000000</td>\n",
              "      <td>200000000000</td>\n",
              "      <td>2.702456</td>\n",
              "      <td>3.556237</td>\n",
              "      <td>4.297659</td>\n",
              "      <td>6.327693</td>\n",
              "      <td>6.542130</td>\n",
              "      <td>7.622354</td>\n",
              "      <td>7.713821</td>\n",
              "      <td>7.720343</td>\n",
              "    </tr>\n",
              "    <tr>\n",
              "      <th>2</th>\n",
              "      <td>STEEL_COL1</td>\n",
              "      <td>NaN</td>\n",
              "      <td>102000000000</td>\n",
              "      <td>200000000000</td>\n",
              "      <td>2.702866</td>\n",
              "      <td>3.556984</td>\n",
              "      <td>4.299000</td>\n",
              "      <td>6.328497</td>\n",
              "      <td>6.542268</td>\n",
              "      <td>7.622354</td>\n",
              "      <td>7.713822</td>\n",
              "      <td>7.721134</td>\n",
              "    </tr>\n",
              "    <tr>\n",
              "      <th>3</th>\n",
              "      <td>STEEL_COL1</td>\n",
              "      <td>NaN</td>\n",
              "      <td>103000000000</td>\n",
              "      <td>200000000000</td>\n",
              "      <td>2.703273</td>\n",
              "      <td>3.557727</td>\n",
              "      <td>4.300338</td>\n",
              "      <td>6.329296</td>\n",
              "      <td>6.542406</td>\n",
              "      <td>7.622354</td>\n",
              "      <td>7.713824</td>\n",
              "      <td>7.721922</td>\n",
              "    </tr>\n",
              "    <tr>\n",
              "      <th>4</th>\n",
              "      <td>STEEL_COL1</td>\n",
              "      <td>NaN</td>\n",
              "      <td>104000000000</td>\n",
              "      <td>200000000000</td>\n",
              "      <td>2.703677</td>\n",
              "      <td>3.558467</td>\n",
              "      <td>4.301671</td>\n",
              "      <td>6.330090</td>\n",
              "      <td>6.542544</td>\n",
              "      <td>7.622354</td>\n",
              "      <td>7.713824</td>\n",
              "      <td>7.722707</td>\n",
              "    </tr>\n",
              "    <tr>\n",
              "      <th>...</th>\n",
              "      <td>...</td>\n",
              "      <td>...</td>\n",
              "      <td>...</td>\n",
              "      <td>...</td>\n",
              "      <td>...</td>\n",
              "      <td>...</td>\n",
              "      <td>...</td>\n",
              "      <td>...</td>\n",
              "      <td>...</td>\n",
              "      <td>...</td>\n",
              "      <td>...</td>\n",
              "      <td>...</td>\n",
              "    </tr>\n",
              "    <tr>\n",
              "      <th>1589</th>\n",
              "      <td>STEEL_BEAM37</td>\n",
              "      <td>STEEL_BEAM38</td>\n",
              "      <td>195000000000</td>\n",
              "      <td>195000000000</td>\n",
              "      <td>2.742950</td>\n",
              "      <td>3.630873</td>\n",
              "      <td>4.451584</td>\n",
              "      <td>6.409537</td>\n",
              "      <td>6.558065</td>\n",
              "      <td>7.622334</td>\n",
              "      <td>7.713801</td>\n",
              "      <td>7.809330</td>\n",
              "    </tr>\n",
              "    <tr>\n",
              "      <th>1590</th>\n",
              "      <td>STEEL_BEAM37</td>\n",
              "      <td>STEEL_BEAM38</td>\n",
              "      <td>196000000000</td>\n",
              "      <td>196000000000</td>\n",
              "      <td>2.743671</td>\n",
              "      <td>3.631506</td>\n",
              "      <td>4.451775</td>\n",
              "      <td>6.410154</td>\n",
              "      <td>6.558156</td>\n",
              "      <td>7.622341</td>\n",
              "      <td>7.713813</td>\n",
              "      <td>7.810100</td>\n",
              "    </tr>\n",
              "    <tr>\n",
              "      <th>1591</th>\n",
              "      <td>STEEL_BEAM37</td>\n",
              "      <td>STEEL_BEAM38</td>\n",
              "      <td>197000000000</td>\n",
              "      <td>197000000000</td>\n",
              "      <td>2.744388</td>\n",
              "      <td>3.632137</td>\n",
              "      <td>4.451964</td>\n",
              "      <td>6.410767</td>\n",
              "      <td>6.558246</td>\n",
              "      <td>7.622349</td>\n",
              "      <td>7.713824</td>\n",
              "      <td>7.810865</td>\n",
              "    </tr>\n",
              "    <tr>\n",
              "      <th>1592</th>\n",
              "      <td>STEEL_BEAM37</td>\n",
              "      <td>STEEL_BEAM38</td>\n",
              "      <td>198000000000</td>\n",
              "      <td>198000000000</td>\n",
              "      <td>2.745101</td>\n",
              "      <td>3.632766</td>\n",
              "      <td>4.452152</td>\n",
              "      <td>6.411377</td>\n",
              "      <td>6.558336</td>\n",
              "      <td>7.622356</td>\n",
              "      <td>7.713835</td>\n",
              "      <td>7.811627</td>\n",
              "    </tr>\n",
              "    <tr>\n",
              "      <th>1593</th>\n",
              "      <td>STEEL_BEAM37</td>\n",
              "      <td>STEEL_BEAM38</td>\n",
              "      <td>199000000000</td>\n",
              "      <td>199000000000</td>\n",
              "      <td>2.745810</td>\n",
              "      <td>3.633392</td>\n",
              "      <td>4.452340</td>\n",
              "      <td>6.411983</td>\n",
              "      <td>6.558425</td>\n",
              "      <td>7.622363</td>\n",
              "      <td>7.713845</td>\n",
              "      <td>7.812385</td>\n",
              "    </tr>\n",
              "  </tbody>\n",
              "</table>\n",
              "<p>1594 rows × 12 columns</p>\n",
              "</div>\n",
              "    <div class=\"colab-df-buttons\">\n",
              "\n",
              "  <div class=\"colab-df-container\">\n",
              "    <button class=\"colab-df-convert\" onclick=\"convertToInteractive('df-f70ab053-a308-4900-85cd-97b1912af18b')\"\n",
              "            title=\"Convert this dataframe to an interactive table.\"\n",
              "            style=\"display:none;\">\n",
              "\n",
              "  <svg xmlns=\"http://www.w3.org/2000/svg\" height=\"24px\" viewBox=\"0 -960 960 960\">\n",
              "    <path d=\"M120-120v-720h720v720H120Zm60-500h600v-160H180v160Zm220 220h160v-160H400v160Zm0 220h160v-160H400v160ZM180-400h160v-160H180v160Zm440 0h160v-160H620v160ZM180-180h160v-160H180v160Zm440 0h160v-160H620v160Z\"/>\n",
              "  </svg>\n",
              "    </button>\n",
              "\n",
              "  <style>\n",
              "    .colab-df-container {\n",
              "      display:flex;\n",
              "      gap: 12px;\n",
              "    }\n",
              "\n",
              "    .colab-df-convert {\n",
              "      background-color: #E8F0FE;\n",
              "      border: none;\n",
              "      border-radius: 50%;\n",
              "      cursor: pointer;\n",
              "      display: none;\n",
              "      fill: #1967D2;\n",
              "      height: 32px;\n",
              "      padding: 0 0 0 0;\n",
              "      width: 32px;\n",
              "    }\n",
              "\n",
              "    .colab-df-convert:hover {\n",
              "      background-color: #E2EBFA;\n",
              "      box-shadow: 0px 1px 2px rgba(60, 64, 67, 0.3), 0px 1px 3px 1px rgba(60, 64, 67, 0.15);\n",
              "      fill: #174EA6;\n",
              "    }\n",
              "\n",
              "    .colab-df-buttons div {\n",
              "      margin-bottom: 4px;\n",
              "    }\n",
              "\n",
              "    [theme=dark] .colab-df-convert {\n",
              "      background-color: #3B4455;\n",
              "      fill: #D2E3FC;\n",
              "    }\n",
              "\n",
              "    [theme=dark] .colab-df-convert:hover {\n",
              "      background-color: #434B5C;\n",
              "      box-shadow: 0px 1px 3px 1px rgba(0, 0, 0, 0.15);\n",
              "      filter: drop-shadow(0px 1px 2px rgba(0, 0, 0, 0.3));\n",
              "      fill: #FFFFFF;\n",
              "    }\n",
              "  </style>\n",
              "\n",
              "    <script>\n",
              "      const buttonEl =\n",
              "        document.querySelector('#df-f70ab053-a308-4900-85cd-97b1912af18b button.colab-df-convert');\n",
              "      buttonEl.style.display =\n",
              "        google.colab.kernel.accessAllowed ? 'block' : 'none';\n",
              "\n",
              "      async function convertToInteractive(key) {\n",
              "        const element = document.querySelector('#df-f70ab053-a308-4900-85cd-97b1912af18b');\n",
              "        const dataTable =\n",
              "          await google.colab.kernel.invokeFunction('convertToInteractive',\n",
              "                                                    [key], {});\n",
              "        if (!dataTable) return;\n",
              "\n",
              "        const docLinkHtml = 'Like what you see? Visit the ' +\n",
              "          '<a target=\"_blank\" href=https://colab.research.google.com/notebooks/data_table.ipynb>data table notebook</a>'\n",
              "          + ' to learn more about interactive tables.';\n",
              "        element.innerHTML = '';\n",
              "        dataTable['output_type'] = 'display_data';\n",
              "        await google.colab.output.renderOutput(dataTable, element);\n",
              "        const docLink = document.createElement('div');\n",
              "        docLink.innerHTML = docLinkHtml;\n",
              "        element.appendChild(docLink);\n",
              "      }\n",
              "    </script>\n",
              "  </div>\n",
              "\n",
              "\n",
              "<div id=\"df-8ccbb295-b8f2-4ede-b078-5bd6f0b15491\">\n",
              "  <button class=\"colab-df-quickchart\" onclick=\"quickchart('df-8ccbb295-b8f2-4ede-b078-5bd6f0b15491')\"\n",
              "            title=\"Suggest charts\"\n",
              "            style=\"display:none;\">\n",
              "\n",
              "<svg xmlns=\"http://www.w3.org/2000/svg\" height=\"24px\"viewBox=\"0 0 24 24\"\n",
              "     width=\"24px\">\n",
              "    <g>\n",
              "        <path d=\"M19 3H5c-1.1 0-2 .9-2 2v14c0 1.1.9 2 2 2h14c1.1 0 2-.9 2-2V5c0-1.1-.9-2-2-2zM9 17H7v-7h2v7zm4 0h-2V7h2v10zm4 0h-2v-4h2v4z\"/>\n",
              "    </g>\n",
              "</svg>\n",
              "  </button>\n",
              "\n",
              "<style>\n",
              "  .colab-df-quickchart {\n",
              "      --bg-color: #E8F0FE;\n",
              "      --fill-color: #1967D2;\n",
              "      --hover-bg-color: #E2EBFA;\n",
              "      --hover-fill-color: #174EA6;\n",
              "      --disabled-fill-color: #AAA;\n",
              "      --disabled-bg-color: #DDD;\n",
              "  }\n",
              "\n",
              "  [theme=dark] .colab-df-quickchart {\n",
              "      --bg-color: #3B4455;\n",
              "      --fill-color: #D2E3FC;\n",
              "      --hover-bg-color: #434B5C;\n",
              "      --hover-fill-color: #FFFFFF;\n",
              "      --disabled-bg-color: #3B4455;\n",
              "      --disabled-fill-color: #666;\n",
              "  }\n",
              "\n",
              "  .colab-df-quickchart {\n",
              "    background-color: var(--bg-color);\n",
              "    border: none;\n",
              "    border-radius: 50%;\n",
              "    cursor: pointer;\n",
              "    display: none;\n",
              "    fill: var(--fill-color);\n",
              "    height: 32px;\n",
              "    padding: 0;\n",
              "    width: 32px;\n",
              "  }\n",
              "\n",
              "  .colab-df-quickchart:hover {\n",
              "    background-color: var(--hover-bg-color);\n",
              "    box-shadow: 0 1px 2px rgba(60, 64, 67, 0.3), 0 1px 3px 1px rgba(60, 64, 67, 0.15);\n",
              "    fill: var(--button-hover-fill-color);\n",
              "  }\n",
              "\n",
              "  .colab-df-quickchart-complete:disabled,\n",
              "  .colab-df-quickchart-complete:disabled:hover {\n",
              "    background-color: var(--disabled-bg-color);\n",
              "    fill: var(--disabled-fill-color);\n",
              "    box-shadow: none;\n",
              "  }\n",
              "\n",
              "  .colab-df-spinner {\n",
              "    border: 2px solid var(--fill-color);\n",
              "    border-color: transparent;\n",
              "    border-bottom-color: var(--fill-color);\n",
              "    animation:\n",
              "      spin 1s steps(1) infinite;\n",
              "  }\n",
              "\n",
              "  @keyframes spin {\n",
              "    0% {\n",
              "      border-color: transparent;\n",
              "      border-bottom-color: var(--fill-color);\n",
              "      border-left-color: var(--fill-color);\n",
              "    }\n",
              "    20% {\n",
              "      border-color: transparent;\n",
              "      border-left-color: var(--fill-color);\n",
              "      border-top-color: var(--fill-color);\n",
              "    }\n",
              "    30% {\n",
              "      border-color: transparent;\n",
              "      border-left-color: var(--fill-color);\n",
              "      border-top-color: var(--fill-color);\n",
              "      border-right-color: var(--fill-color);\n",
              "    }\n",
              "    40% {\n",
              "      border-color: transparent;\n",
              "      border-right-color: var(--fill-color);\n",
              "      border-top-color: var(--fill-color);\n",
              "    }\n",
              "    60% {\n",
              "      border-color: transparent;\n",
              "      border-right-color: var(--fill-color);\n",
              "    }\n",
              "    80% {\n",
              "      border-color: transparent;\n",
              "      border-right-color: var(--fill-color);\n",
              "      border-bottom-color: var(--fill-color);\n",
              "    }\n",
              "    90% {\n",
              "      border-color: transparent;\n",
              "      border-bottom-color: var(--fill-color);\n",
              "    }\n",
              "  }\n",
              "</style>\n",
              "\n",
              "  <script>\n",
              "    async function quickchart(key) {\n",
              "      const quickchartButtonEl =\n",
              "        document.querySelector('#' + key + ' button');\n",
              "      quickchartButtonEl.disabled = true;  // To prevent multiple clicks.\n",
              "      quickchartButtonEl.classList.add('colab-df-spinner');\n",
              "      try {\n",
              "        const charts = await google.colab.kernel.invokeFunction(\n",
              "            'suggestCharts', [key], {});\n",
              "      } catch (error) {\n",
              "        console.error('Error during call to suggestCharts:', error);\n",
              "      }\n",
              "      quickchartButtonEl.classList.remove('colab-df-spinner');\n",
              "      quickchartButtonEl.classList.add('colab-df-quickchart-complete');\n",
              "    }\n",
              "    (() => {\n",
              "      let quickchartButtonEl =\n",
              "        document.querySelector('#df-8ccbb295-b8f2-4ede-b078-5bd6f0b15491 button');\n",
              "      quickchartButtonEl.style.display =\n",
              "        google.colab.kernel.accessAllowed ? 'block' : 'none';\n",
              "    })();\n",
              "  </script>\n",
              "</div>\n",
              "    </div>\n",
              "  </div>\n"
            ],
            "text/plain": [
              "     Member_1_name Member_2_name            E1            E2  Frequency_1  \\\n",
              "0       STEEL_COL1           NaN  100000000000  200000000000     2.702044   \n",
              "1       STEEL_COL1           NaN  101000000000  200000000000     2.702456   \n",
              "2       STEEL_COL1           NaN  102000000000  200000000000     2.702866   \n",
              "3       STEEL_COL1           NaN  103000000000  200000000000     2.703273   \n",
              "4       STEEL_COL1           NaN  104000000000  200000000000     2.703677   \n",
              "...            ...           ...           ...           ...          ...   \n",
              "1589  STEEL_BEAM37  STEEL_BEAM38  195000000000  195000000000     2.742950   \n",
              "1590  STEEL_BEAM37  STEEL_BEAM38  196000000000  196000000000     2.743671   \n",
              "1591  STEEL_BEAM37  STEEL_BEAM38  197000000000  197000000000     2.744388   \n",
              "1592  STEEL_BEAM37  STEEL_BEAM38  198000000000  198000000000     2.745101   \n",
              "1593  STEEL_BEAM37  STEEL_BEAM38  199000000000  199000000000     2.745810   \n",
              "\n",
              "      Frequency_2  Frequency_3  Frequency_4  Frequency_5  Frequency_6  \\\n",
              "0        3.555486     4.296314     6.326884     6.541992     7.622354   \n",
              "1        3.556237     4.297659     6.327693     6.542130     7.622354   \n",
              "2        3.556984     4.299000     6.328497     6.542268     7.622354   \n",
              "3        3.557727     4.300338     6.329296     6.542406     7.622354   \n",
              "4        3.558467     4.301671     6.330090     6.542544     7.622354   \n",
              "...           ...          ...          ...          ...          ...   \n",
              "1589     3.630873     4.451584     6.409537     6.558065     7.622334   \n",
              "1590     3.631506     4.451775     6.410154     6.558156     7.622341   \n",
              "1591     3.632137     4.451964     6.410767     6.558246     7.622349   \n",
              "1592     3.632766     4.452152     6.411377     6.558336     7.622356   \n",
              "1593     3.633392     4.452340     6.411983     6.558425     7.622363   \n",
              "\n",
              "      Frequency_7  Frequency_8  \n",
              "0        7.713820     7.719549  \n",
              "1        7.713821     7.720343  \n",
              "2        7.713822     7.721134  \n",
              "3        7.713824     7.721922  \n",
              "4        7.713824     7.722707  \n",
              "...           ...          ...  \n",
              "1589     7.713801     7.809330  \n",
              "1590     7.713813     7.810100  \n",
              "1591     7.713824     7.810865  \n",
              "1592     7.713835     7.811627  \n",
              "1593     7.713845     7.812385  \n",
              "\n",
              "[1594 rows x 12 columns]"
            ]
          },
          "execution_count": 16,
          "metadata": {},
          "output_type": "execute_result"
        }
      ],
      "source": [
        "data_preprocessed=data\n",
        "data_preprocessed"
      ]
    },
    {
      "cell_type": "code",
      "execution_count": null,
      "metadata": {
        "colab": {
          "base_uri": "https://localhost:8080/",
          "height": 582
        },
        "id": "0pXyFV-0PYpZ",
        "outputId": "69f6261d-7dc7-4577-aabf-d1f9c711ceab"
      },
      "outputs": [
        {
          "data": {
            "image/png": "[encoded data removed]",
            "text/plain": [
              "<Figure size 1500x500 with 3 Axes>"
            ]
          },
          "metadata": {},
          "output_type": "display_data"
        },
        {
          "data": {
            "image/png": "[encoded data removed]",
            "text/plain": [
              "<Figure size 1500x500 with 3 Axes>"
            ]
          },
          "metadata": {},
          "output_type": "display_data"
        }
      ],
      "source": [
        "import seaborn as sns\n",
        "import matplotlib.pyplot as plt\n",
        "plt.figure(figsize=(15, 5))\n",
        "for i, col in enumerate(['Frequency_1', 'Frequency_2', 'Frequency_3']):\n",
        "    plt.subplot(1, 3, i+1)\n",
        "    sns.histplot(data_preprocessed[col], kde=True)\n",
        "    plt.title(f'Histogram of {col}')\n",
        "plt.tight_layout()\n",
        "plt.show()\n",
        "\n",
        "# Scatter Plots\n",
        "plt.figure(figsize=(15, 5))\n",
        "for i, col in enumerate(['Frequency_1', 'Frequency_2', 'Frequency_3']):\n",
        "    plt.subplot(1, 3, i+1)\n",
        "    sns.scatterplot(data=data_preprocessed, x=col, y='E1')\n",
        "    plt.title(f'{col} vs E1')\n",
        "plt.tight_layout()\n",
        "plt.show()\n"
      ]
    },
    {
      "cell_type": "code",
      "execution_count": null,
      "metadata": {
        "colab": {
          "base_uri": "https://localhost:8080/"
        },
        "id": "lKTm92w0Ek3o",
        "outputId": "95bbc85f-a44b-47d7-8f0d-a24a6f7accab"
      },
      "outputs": [
        {
          "name": "stdout",
          "output_type": "stream",
          "text": [
            "MSE for Model 1: 4.140540328385908e+19\n",
            "R-squared for Model 1: 0.9504934557896073\n"
          ]
        }
      ],
      "source": [
        "from sklearn.ensemble import GradientBoostingRegressor\n",
        "from sklearn.metrics import mean_squared_error, r2_score\n",
        "\n",
        "# Features and target for Model 1\n",
        "X = data_preprocessed.drop(columns=['E1', 'Member_1_name', 'Member_2_name'])\n",
        "y = data_preprocessed['E1']\n",
        "\n",
        "# Splitting the data\n",
        "X_train, X_test, y_train, y_test = train_test_split(X, y, test_size=0.2, random_state=42)\n",
        "\n",
        "# Building the GBM regressor\n",
        "model_1_gbm = GradientBoostingRegressor(random_state=42)\n",
        "model_1_gbm.fit(X_train, y_train)\n",
        "\n",
        "# Predicting and evaluating\n",
        "y_pred_1 = model_1_gbm.predict(X_test)\n",
        "mse_1 = mean_squared_error(y_test, y_pred_1)\n",
        "r2_1 = r2_score(y_test, y_pred_1)\n",
        "\n",
        "print(\"MSE for Model 1:\", mse_1)\n",
        "print(\"R-squared for Model 1:\", r2_1)"
      ]
    },
    {
      "cell_type": "code",
      "execution_count": null,
      "metadata": {
        "colab": {
          "base_uri": "https://localhost:8080/",
          "height": 472
        },
        "id": "hBrH9-3cRiGL",
        "outputId": "b1591460-a6fd-46ba-fe61-cd202195da7e"
      },
      "outputs": [
        {
          "data": {
            "image/png": "[encoded data removed]",
            "text/plain": [
              "<Figure size 640x480 with 1 Axes>"
            ]
          },
          "metadata": {},
          "output_type": "display_data"
        }
      ],
      "source": [
        "# Residual Plot\n",
        "residuals = y_test - y_pred_1\n",
        "plt.scatter(y_pred_1, residuals)\n",
        "plt.title('Residual Plot')\n",
        "plt.xlabel('Predicted')\n",
        "plt.ylabel('Residuals')\n",
        "plt.axhline(y=0, color='r', linestyle='--')\n",
        "plt.show()"
      ]
    },
    {
      "cell_type": "code",
      "execution_count": null,
      "metadata": {
        "colab": {
          "base_uri": "https://localhost:8080/"
        },
        "id": "wLW4ofrWE97D",
        "outputId": "8eb0ed98-ca39-4a02-f52c-e4e0c67ee9a3"
      },
      "outputs": [
        {
          "name": "stdout",
          "output_type": "stream",
          "text": [
            "Accuracy for Model 2: 0.6959247648902821\n"
          ]
        }
      ],
      "source": [
        "from sklearn.ensemble import GradientBoostingClassifier\n",
        "from sklearn.metrics import accuracy_score\n",
        "\n",
        "# Predicting E1 for the entire dataset using the GBM regressor\n",
        "predicted_E1 = model_1_gbm.predict(X)\n",
        "\n",
        "# Preparing data for Model 2\n",
        "X_model_2 = X.copy()\n",
        "X_model_2['Predicted_E1'] = predicted_E1\n",
        "y_model_2 = data_preprocessed['Member_1_name']\n",
        "\n",
        "# Splitting the data for Model 2\n",
        "X_train_2, X_test_2, y_train_2, y_test_2 = train_test_split(X_model_2, y_model_2, test_size=0.2, random_state=42)\n",
        "\n",
        "# Building the GBM classifier\n",
        "model_2_gbm = GradientBoostingClassifier(random_state=42)\n",
        "model_2_gbm.fit(X_train_2, y_train_2)\n",
        "\n",
        "# Predicting and evaluating\n",
        "y_pred_2 = model_2_gbm.predict(X_test_2)\n",
        "accuracy_2 = accuracy_score(y_test_2, y_pred_2)\n",
        "\n",
        "print(\"Accuracy for Model 2:\", accuracy_2)\n"
      ]
    },
    {
      "cell_type": "code",
      "execution_count": null,
      "metadata": {
        "colab": {
          "base_uri": "https://localhost:8080/"
        },
        "id": "nGUtQJB2FQyX",
        "outputId": "6eec4aa0-f4b4-4a1c-d7f1-1fcb694f42eb"
      },
      "outputs": [
        {
          "name": "stdout",
          "output_type": "stream",
          "text": [
            "10/10 [==============================] - 0s 3ms/step\n",
            "MSE for Model 1: 2.245538938228292e+22\n",
            "R-squared for Model 1: -25.848880557792725\n"
          ]
        }
      ],
      "source": [
        "from tensorflow.keras.models import Sequential\n",
        "from tensorflow.keras.layers import Dense\n",
        "from sklearn.preprocessing import StandardScaler\n",
        "from sklearn.metrics import mean_squared_error, r2_score\n",
        "\n",
        "# Preparing data for Model 1\n",
        "X = data_preprocessed.drop(columns=['E1', 'Member_1_name', 'Member_2_name'])\n",
        "y = data_preprocessed['E1']\n",
        "\n",
        "# Standardizing the features\n",
        "scaler = StandardScaler()\n",
        "X_scaled = scaler.fit_transform(X)\n",
        "\n",
        "# Splitting the data\n",
        "X_train, X_test, y_train, y_test = train_test_split(X_scaled, y, test_size=0.2, random_state=42)\n",
        "\n",
        "# Building the neural network model\n",
        "model_1_nn = Sequential()\n",
        "model_1_nn.add(Dense(128, activation='relu', input_shape=(X_train.shape[1],)))\n",
        "model_1_nn.add(Dense(64, activation='relu'))\n",
        "model_1_nn.add(Dense(1))  # Output layer\n",
        "\n",
        "# Compiling the model\n",
        "model_1_nn.compile(optimizer='adam', loss='mean_squared_error')\n",
        "\n",
        "# Training the model\n",
        "model_1_nn.fit(X_train, y_train, epochs=100, batch_size=32, verbose=0)\n",
        "\n",
        "# Predicting and evaluating\n",
        "y_pred_1 = model_1_nn.predict(X_test)\n",
        "mse_1 = mean_squared_error(y_test, y_pred_1)\n",
        "r2_1 = r2_score(y_test, y_pred_1)\n",
        "\n",
        "print(\"MSE for Model 1:\", mse_1)\n",
        "print(\"R-squared for Model 1:\", r2_1)\n"
      ]
    },
    {
      "cell_type": "code",
      "execution_count": null,
      "metadata": {
        "colab": {
          "base_uri": "https://localhost:8080/"
        },
        "id": "RYmk8jVHF3_b",
        "outputId": "753329ca-e753-4a0e-9065-4632b2f43834"
      },
      "outputs": [
        {
          "name": "stdout",
          "output_type": "stream",
          "text": [
            "MSE for Model 1: 8.137662460815046e+18\n",
            "R-squared for Model 1: 0.990270169725828\n"
          ]
        }
      ],
      "source": [
        "from sklearn.ensemble import ExtraTreesRegressor\n",
        "from sklearn.metrics import mean_squared_error, r2_score\n",
        "\n",
        "# Preparing data for Model 1\n",
        "X = data_preprocessed.drop(columns=['E1', 'Member_1_name', 'Member_2_name'])\n",
        "y = data_preprocessed['E1']\n",
        "\n",
        "# Splitting the data\n",
        "X_train, X_test, y_train, y_test = train_test_split(X, y, test_size=0.2, random_state=42)\n",
        "\n",
        "# Building the Extra Trees Regressor\n",
        "model_1_etr = ExtraTreesRegressor(n_estimators=100, random_state=42)\n",
        "model_1_etr.fit(X_train, y_train)\n",
        "\n",
        "# Predicting and evaluating\n",
        "y_pred_1 = model_1_etr.predict(X_test)\n",
        "mse_1 = mean_squared_error(y_test, y_pred_1)\n",
        "r2_1 = r2_score(y_test, y_pred_1)\n",
        "\n",
        "print(\"MSE for Model 1:\", mse_1)\n",
        "print(\"R-squared for Model 1:\", r2_1)\n"
      ]
    },
    {
      "cell_type": "code",
      "execution_count": null,
      "metadata": {
        "colab": {
          "base_uri": "https://localhost:8080/",
          "height": 472
        },
        "id": "Gdmt71mlRO0a",
        "outputId": "94714704-6637-46e9-c2a0-ed7c7268db51"
      },
      "outputs": [
        {
          "data": {
            "image/png": "[encoded data removed]",
            "text/plain": [
              "<Figure size 640x480 with 1 Axes>"
            ]
          },
          "metadata": {},
          "output_type": "display_data"
        }
      ],
      "source": [
        "# Residual Plot\n",
        "residuals = y_test - y_pred_1\n",
        "plt.scatter(y_pred_1, residuals)\n",
        "plt.title('Residual Plot')\n",
        "plt.xlabel('Predicted')\n",
        "plt.ylabel('Residuals')\n",
        "plt.axhline(y=0, color='r', linestyle='--')\n",
        "plt.show()"
      ]
    },
    {
      "cell_type": "code",
      "execution_count": null,
      "metadata": {
        "colab": {
          "base_uri": "https://localhost:8080/"
        },
        "id": "LbzgzZFtGFpd",
        "outputId": "f1537a90-a16f-4f20-fbf8-4e98a3c22414"
      },
      "outputs": [
        {
          "name": "stdout",
          "output_type": "stream",
          "text": [
            "Accuracy for Model 2: 0.7021943573667712\n"
          ]
        }
      ],
      "source": [
        "from sklearn.ensemble import ExtraTreesClassifier\n",
        "from sklearn.metrics import accuracy_score\n",
        "\n",
        "# Using Model 1 (ETR) to predict E1 for the entire dataset\n",
        "predicted_E1 = model_1_etr.predict(X)\n",
        "\n",
        "# Preparing data for Model 2\n",
        "X_model_2 = X.copy()\n",
        "X_model_2['Predicted_E1'] = predicted_E1\n",
        "y_model_2 = data_preprocessed['Member_1_name']\n",
        "\n",
        "# Splitting the data for Model 2\n",
        "X_train_2, X_test_2, y_train_2, y_test_2 = train_test_split(X_model_2, y_model_2, test_size=0.2, random_state=42)\n",
        "\n",
        "# Building the Extra Trees Classifier\n",
        "model_2_etr = ExtraTreesClassifier(n_estimators=100, random_state=42)\n",
        "model_2_etr.fit(X_train_2, y_train_2)\n",
        "\n",
        "# Predicting and evaluating\n",
        "y_pred_2 = model_2_etr.predict(X_test_2)\n",
        "accuracy_2 = accuracy_score(y_test_2, y_pred_2)\n",
        "\n",
        "print(\"Accuracy for Model 2:\", accuracy_2)\n"
      ]
    },
    {
      "cell_type": "code",
      "execution_count": null,
      "metadata": {
        "colab": {
          "base_uri": "https://localhost:8080/"
        },
        "id": "h4jSxiTGHtvh",
        "outputId": "91f2d129-a07f-4028-9e46-4119e550e333"
      },
      "outputs": [
        {
          "name": "stderr",
          "output_type": "stream",
          "text": [
            "/usr/local/lib/python3.10/dist-packages/sklearn/experimental/enable_hist_gradient_boosting.py:16: UserWarning: Since version 1.0, it is not needed to import enable_hist_gradient_boosting anymore. HistGradientBoostingClassifier and HistGradientBoostingRegressor are now stable and can be normally imported from sklearn.ensemble.\n",
            "  warnings.warn(\n"
          ]
        },
        {
          "name": "stdout",
          "output_type": "stream",
          "text": [
            "MSE for Model 1: 2.0908704864423993e+19\n",
            "R-squared for Model 1: 0.9750004192772547\n"
          ]
        }
      ],
      "source": [
        "from sklearn.experimental import enable_hist_gradient_boosting  # noqa\n",
        "from sklearn.ensemble import HistGradientBoostingRegressor\n",
        "from sklearn.metrics import mean_squared_error, r2_score\n",
        "\n",
        "\n",
        "# Building the HistGBM regressor\n",
        "model_1_histgbm = HistGradientBoostingRegressor(random_state=42)\n",
        "model_1_histgbm.fit(X_train, y_train)\n",
        "\n",
        "# Predicting and evaluating\n",
        "y_pred_1 = model_1_histgbm.predict(X_test)\n",
        "mse_1 = mean_squared_error(y_test, y_pred_1)\n",
        "r2_1 = r2_score(y_test, y_pred_1)\n",
        "\n",
        "print(\"MSE for Model 1:\", mse_1)\n",
        "print(\"R-squared for Model 1:\", r2_1)\n"
      ]
    },
    {
      "cell_type": "code",
      "execution_count": null,
      "metadata": {
        "colab": {
          "base_uri": "https://localhost:8080/",
          "height": 472
        },
        "id": "ld4ldlKsR0pH",
        "outputId": "007ddd18-32ec-4f33-90c8-4e1353314c59"
      },
      "outputs": [
        {
          "data": {
            "image/png": "[encoded data removed]",
            "text/plain": [
              "<Figure size 640x480 with 1 Axes>"
            ]
          },
          "metadata": {},
          "output_type": "display_data"
        }
      ],
      "source": [
        "# Residual Plot\n",
        "residuals = y_test - y_pred_1\n",
        "plt.scatter(y_pred_1, residuals)\n",
        "plt.title('Residual Plot')\n",
        "plt.xlabel('Predicted')\n",
        "plt.ylabel('Residuals')\n",
        "plt.axhline(y=0, color='r', linestyle='--')\n",
        "plt.show()"
      ]
    },
    {
      "cell_type": "code",
      "execution_count": null,
      "metadata": {
        "colab": {
          "base_uri": "https://localhost:8080/"
        },
        "id": "sCSslV2DIAlq",
        "outputId": "f94ff7b1-a0f0-48a6-b1e0-783bb48acdd3"
      },
      "outputs": [
        {
          "name": "stdout",
          "output_type": "stream",
          "text": [
            "Accuracy for Model 2: 0.6990595611285266\n"
          ]
        }
      ],
      "source": [
        "from sklearn.ensemble import HistGradientBoostingClassifier\n",
        "from sklearn.metrics import accuracy_score\n",
        "\n",
        "# Predicting E1 for the entire dataset using the HistGBM regressor\n",
        "predicted_E1 = model_1_histgbm.predict(X)\n",
        "\n",
        "\n",
        "\n",
        "# Building the HistGBM classifier\n",
        "model_2_histgbm = HistGradientBoostingClassifier(random_state=42)\n",
        "model_2_histgbm.fit(X_train_2, y_train_2)\n",
        "\n",
        "# Predicting and evaluating\n",
        "y_pred_2 = model_2_histgbm.predict(X_test_2)\n",
        "accuracy_2 = accuracy_score(y_test_2, y_pred_2)\n",
        "\n",
        "print(\"Accuracy for Model 2:\", accuracy_2)\n"
      ]
    },
    {
      "cell_type": "code",
      "execution_count": null,
      "metadata": {
        "id": "wqGCYuzrIGmc"
      },
      "outputs": [],
      "source": [
        "from xgboost import XGBRegressor\n",
        "from sklearn.metrics import mean_squared_error, r2_score"
      ]
    },
    {
      "cell_type": "code",
      "execution_count": null,
      "metadata": {
        "colab": {
          "base_uri": "https://localhost:8080/"
        },
        "id": "TQVwJPuZIVsB",
        "outputId": "917131b7-5ef6-4563-8f22-dba0fc8f29a0"
      },
      "outputs": [
        {
          "name": "stdout",
          "output_type": "stream",
          "text": [
            "MSE for Model 1: 1.9013559078454112e+19\n",
            "R-squared for Model 1: 0.9772663582899737\n"
          ]
        }
      ],
      "source": [
        "# Building the XGBoost regressor\n",
        "model_1_xgb = XGBRegressor(random_state=42)\n",
        "model_1_xgb.fit(X_train, y_train)\n",
        "\n",
        "# Predicting and evaluating\n",
        "y_pred_1 = model_1_xgb.predict(X_test)\n",
        "mse_1 = mean_squared_error(y_test, y_pred_1)\n",
        "r2_1 = r2_score(y_test, y_pred_1)\n",
        "\n",
        "print(\"MSE for Model 1:\", mse_1)\n",
        "print(\"R-squared for Model 1:\", r2_1)"
      ]
    },
    {
      "cell_type": "code",
      "execution_count": null,
      "metadata": {
        "colab": {
          "base_uri": "https://localhost:8080/",
          "height": 472
        },
        "id": "ijRCkKxzSNlu",
        "outputId": "6258bbf7-abab-4219-8cb6-c2b9efbcdfe3"
      },
      "outputs": [
        {
          "data": {
            "image/png": "[encoded data removed]",
            "text/plain": [
              "<Figure size 640x480 with 1 Axes>"
            ]
          },
          "metadata": {},
          "output_type": "display_data"
        }
      ],
      "source": [
        "# Residual Plot\n",
        "residuals = y_test - y_pred_1\n",
        "plt.scatter(y_pred_1, residuals)\n",
        "plt.title('Residual Plot')\n",
        "plt.xlabel('Predicted')\n",
        "plt.ylabel('Residuals')\n",
        "plt.axhline(y=0, color='r', linestyle='--')\n",
        "plt.show()"
      ]
    },
    {
      "cell_type": "code",
      "execution_count": null,
      "metadata": {
        "id": "B5YsYkqGIZ6X"
      },
      "outputs": [],
      "source": [
        "from xgboost import XGBClassifier\n",
        "from sklearn.metrics import accuracy_score\n",
        "\n",
        "# Predicting E1 for the entire dataset using the XGBoost regressor\n",
        "predicted_E1 = model_1_xgb.predict(X)"
      ]
    },
    {
      "cell_type": "code",
      "execution_count": null,
      "metadata": {
        "colab": {
          "base_uri": "https://localhost:8080/"
        },
        "id": "FB0AadeCIe8W",
        "outputId": "b5501092-9206-4f6f-aa5f-d013b7998b0b"
      },
      "outputs": [
        {
          "name": "stdout",
          "output_type": "stream",
          "text": [
            "Accuracy for Model 2 with Label Encoding: 0.6959247648902821\n"
          ]
        }
      ],
      "source": [
        "from sklearn.preprocessing import LabelEncoder\n",
        "\n",
        "# Label encoding for Member_1_name\n",
        "label_encoder = LabelEncoder()\n",
        "y_model_2_encoded = label_encoder.fit_transform(data_preprocessed['Member_1_name'])\n",
        "\n",
        "# Preparing data for Model 2 with label encoding\n",
        "X_model_2 = X.copy()\n",
        "X_model_2['Predicted_E1'] = predicted_E1\n",
        "\n",
        "# Splitting the data for Model 2\n",
        "X_train_2, X_test_2, y_train_2, y_test_2 = train_test_split(X_model_2, y_model_2_encoded, test_size=0.2, random_state=42)\n",
        "\n",
        "# Building the XGBoost classifier with label encoded data\n",
        "model_2_xgb = XGBClassifier(random_state=42)\n",
        "model_2_xgb.fit(X_train_2, y_train_2)\n",
        "\n",
        "# Predicting and evaluating with label encoded data\n",
        "y_pred_2 = model_2_xgb.predict(X_test_2)\n",
        "accuracy_2 = accuracy_score(y_test_2, y_pred_2)\n",
        "\n",
        "print(\"Accuracy for Model 2 with Label Encoding:\", accuracy_2)\n"
      ]
    },
    {
      "cell_type": "code",
      "execution_count": null,
      "metadata": {
        "colab": {
          "base_uri": "https://localhost:8080/"
        },
        "id": "D68FY1vlIki8",
        "outputId": "23271614-7486-44b6-af4a-9dc6c851d2bd"
      },
      "outputs": [
        {
          "name": "stdout",
          "output_type": "stream",
          "text": [
            "MSE for Model 1 (SVR): 8.363636306120417e+20\n",
            "R-squared for Model 1 (SVR): -1.6850699411374848e-06\n"
          ]
        }
      ],
      "source": [
        "from sklearn.svm import SVR\n",
        "from sklearn.preprocessing import StandardScaler\n",
        "from sklearn.metrics import mean_squared_error, r2_score\n",
        "\n",
        "# Standardizing the features\n",
        "scaler = StandardScaler()\n",
        "X_scaled = scaler.fit_transform(X)\n",
        "\n",
        "# Splitting the data\n",
        "X_train, X_test, y_train, y_test = train_test_split(X_scaled, y, test_size=0.2, random_state=42)\n",
        "\n",
        "# Building the SVR model\n",
        "model_1_svr = SVR(kernel='rbf')\n",
        "model_1_svr.fit(X_train, y_train)\n",
        "\n",
        "# Predicting and evaluating\n",
        "y_pred_1 = model_1_svr.predict(X_test)\n",
        "mse_1 = mean_squared_error(y_test, y_pred_1)\n",
        "r2_1 = r2_score(y_test, y_pred_1)\n",
        "\n",
        "print(\"MSE for Model 1 (SVR):\", mse_1)\n",
        "print(\"R-squared for Model 1 (SVR):\", r2_1)\n"
      ]
    },
    {
      "cell_type": "code",
      "execution_count": null,
      "metadata": {
        "colab": {
          "base_uri": "https://localhost:8080/"
        },
        "id": "jRloICJZTmwF",
        "outputId": "7e7c79e7-fe7c-4a0a-898a-6ef7cbfd7fc6"
      },
      "outputs": [
        {
          "name": "stdout",
          "output_type": "stream",
          "text": [
            "Accuracy for Model 2 (SVC): 0.6865203761755486\n"
          ]
        }
      ],
      "source": [
        "from sklearn.svm import SVC\n",
        "from sklearn.metrics import accuracy_score\n",
        "\n",
        "# Standardizing the features for Model 2\n",
        "X_model_2_scaled = scaler.fit_transform(X_model_2)\n",
        "\n",
        "# Splitting the data for Model 2\n",
        "X_train_2, X_test_2, y_train_2, y_test_2 = train_test_split(X_model_2_scaled, y_model_2_encoded, test_size=0.2, random_state=42)\n",
        "\n",
        "# Building the SVC model\n",
        "model_2_svc = SVC(kernel='rbf', probability=True)\n",
        "model_2_svc.fit(X_train_2, y_train_2)\n",
        "\n",
        "# Predicting and evaluating\n",
        "y_pred_2 = model_2_svc.predict(X_test_2)\n",
        "accuracy_2 = accuracy_score(y_test_2, y_pred_2)\n",
        "\n",
        "print(\"Accuracy for Model 2 (SVC):\", accuracy_2)\n"
      ]
    },
    {
      "cell_type": "code",
      "execution_count": null,
      "metadata": {
        "colab": {
          "base_uri": "https://localhost:8080/"
        },
        "id": "kCUHBfuzUO8U",
        "outputId": "da50e904-5a62-4763-e48c-c442cd882b27"
      },
      "outputs": [
        {
          "name": "stdout",
          "output_type": "stream",
          "text": [
            "Fitting 3 folds for each of 108 candidates, totalling 324 fits\n",
            "Best parameters for GBR (Model 1): {'learning_rate': 0.1, 'max_depth': 4, 'min_samples_leaf': 2, 'min_samples_split': 2, 'n_estimators': 300}\n"
          ]
        }
      ],
      "source": [
        "from sklearn.model_selection import GridSearchCV\n",
        "from sklearn.ensemble import GradientBoostingRegressor\n",
        "\n",
        "# Define the parameter grid for GBR\n",
        "param_grid_gbr = {\n",
        "    'n_estimators': [100, 200, 300],\n",
        "    'learning_rate': [0.01, 0.05, 0.1],\n",
        "    'max_depth': [3, 4, 5],\n",
        "    'min_samples_split': [2, 4],\n",
        "    'min_samples_leaf': [1, 2]\n",
        "}\n",
        "# Preparing data for Model 1\n",
        "X = data_preprocessed.drop(columns=['E1', 'Member_1_name', 'Member_2_name'])\n",
        "y = data_preprocessed['E1']\n",
        "\n",
        "# Splitting the data\n",
        "X_train, X_test, y_train, y_test = train_test_split(X, y, test_size=0.2, random_state=42)\n",
        "\n",
        "# Create a base GBR model\n",
        "gbr = GradientBoostingRegressor(random_state=42)\n",
        "\n",
        "# Instantiate the grid search model for GBR\n",
        "grid_search_gbr = GridSearchCV(estimator=gbr, param_grid=param_grid_gbr,\n",
        "                               cv=3, n_jobs=-1, scoring='neg_mean_squared_error', verbose=2)\n",
        "\n",
        "# Fit the grid search to the data for Model 1\n",
        "grid_search_gbr.fit(X_train, y_train)\n",
        "\n",
        "# Print the best parameters found for Model 1\n",
        "print(\"Best parameters for GBR (Model 1):\", grid_search_gbr.best_params_)\n"
      ]
    },
    {
      "cell_type": "code",
      "execution_count": null,
      "metadata": {
        "colab": {
          "base_uri": "https://localhost:8080/"
        },
        "id": "n1DlkJ0fVht4",
        "outputId": "d526d4f7-f69b-4828-c3a2-d69ec3302813"
      },
      "outputs": [
        {
          "name": "stdout",
          "output_type": "stream",
          "text": [
            "R-squared for the best GBR model (Model 1): 0.9673130582919511\n"
          ]
        }
      ],
      "source": [
        "from sklearn.metrics import r2_score\n",
        "\n",
        "# Using the best estimator found by grid search for Model 1\n",
        "best_gbr_model = grid_search_gbr.best_estimator_\n",
        "\n",
        "# Predicting with the best model\n",
        "y_pred_1 = best_gbr_model.predict(X_test)\n",
        "\n",
        "# Calculating R-squared for Model 1\n",
        "r2_score_model_1 = r2_score(y_test, y_pred_1)\n",
        "\n",
        "print(\"R-squared for the best GBR model (Model 1):\", r2_score_model_1)\n"
      ]
    },
    {
      "cell_type": "code",
      "execution_count": null,
      "metadata": {
        "colab": {
          "background_save": true,
          "base_uri": "https://localhost:8080/"
        },
        "id": "WfcC9mLPVn-i",
        "outputId": "afe0339e-9b05-4592-ce40-a0d2c6f0866e"
      },
      "outputs": [
        {
          "name": "stdout",
          "output_type": "stream",
          "text": [
            "Fitting 3 folds for each of 108 candidates, totalling 324 fits\n",
            "Best parameters for GBC (Model 2): {'learning_rate': 0.01, 'max_depth': 3, 'min_samples_leaf': 1, 'min_samples_split': 2, 'n_estimators': 100}\n"
          ]
        }
      ],
      "source": [
        "from sklearn.ensemble import GradientBoostingClassifier\n",
        "\n",
        "# Define the parameter grid for GBC\n",
        "param_grid_gbc = {\n",
        "    'n_estimators': [100, 200, 300],\n",
        "    'learning_rate': [0.01, 0.05, 0.1],\n",
        "    'max_depth': [3, 4, 5],\n",
        "    'min_samples_split': [2, 4],\n",
        "    'min_samples_leaf': [1, 2]\n",
        "}\n",
        "X_model_2 = X.copy()\n",
        "X_model_2['Predicted_E1'] = predicted_E1\n",
        "y_model_2 = data_preprocessed['Member_1_name']\n",
        "\n",
        "# Splitting the data for Model 2\n",
        "X_train_2, X_test_2, y_train_2, y_test_2 = train_test_split(X_model_2, y_model_2, test_size=0.2, random_state=42)\n",
        "\n",
        "\n",
        "# Create a base GBC model\n",
        "gbc = GradientBoostingClassifier(random_state=42)\n",
        "\n",
        "# Instantiate the grid search model for GBC\n",
        "grid_search_gbc = GridSearchCV(estimator=gbc, param_grid=param_grid_gbc,\n",
        "                               cv=3, n_jobs=-1, scoring='accuracy', verbose=2)\n",
        "\n",
        "# Fit the grid search to the data for Model 2\n",
        "grid_search_gbc.fit(X_train_2, y_train_2)\n",
        "\n",
        "# Print the best parameters found for Model 2\n",
        "print(\"Best parameters for GBC (Model 2):\", grid_search_gbc.best_params_)\n"
      ]
    }
  ],
  "metadata": {
    "colab": {
      "provenance": [],
      "authorship_tag": "ABX9TyMmoZqKzY6G6mJ4rDU07amX",
      "include_colab_link": true
    },
    "kernelspec": {
      "display_name": "Python 3",
      "name": "python3"
    },
    "language_info": {
      "name": "python"
    }
  },
  "nbformat": 4,
  "nbformat_minor": 0
}